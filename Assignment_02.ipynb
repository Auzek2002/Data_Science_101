{
  "nbformat": 4,
  "nbformat_minor": 0,
  "metadata": {
    "colab": {
      "provenance": [],
      "include_colab_link": true
    },
    "kernelspec": {
      "name": "python3",
      "display_name": "Python 3"
    },
    "language_info": {
      "name": "python"
    }
  },
  "cells": [
    {
      "cell_type": "markdown",
      "metadata": {
        "id": "view-in-github",
        "colab_type": "text"
      },
      "source": [
        "<a href=\"https://colab.research.google.com/github/Auzek2002/Data_Science_101/blob/main/Assignment_02.ipynb\" target=\"_parent\"><img src=\"https://colab.research.google.com/assets/colab-badge.svg\" alt=\"Open In Colab\"/></a>"
      ]
    },
    {
      "cell_type": "markdown",
      "source": [
        "## Task 01:\n",
        "\n",
        "Print Your Name with your Father name and Date of birth using suitable escape sequence charactor\n",
        "\n"
      ],
      "metadata": {
        "id": "bb0O0xtk1v9t"
      }
    },
    {
      "cell_type": "code",
      "source": [
        "# Write your code here\n",
        "print(\"Azaan Nabi Khan\\nFarhan Nabi Khan\")"
      ],
      "metadata": {
        "id": "U7LLGIkO2Ixa",
        "outputId": "a828b64b-fd38-4b63-cf5c-b116a6aefbf2",
        "colab": {
          "base_uri": "https://localhost:8080/"
        }
      },
      "execution_count": 1,
      "outputs": [
        {
          "output_type": "stream",
          "name": "stdout",
          "text": [
            "Azaan Nabi Khan\n",
            "Farhan Nabi Khan\n"
          ]
        }
      ]
    },
    {
      "cell_type": "markdown",
      "source": [
        "# Task 02:\n",
        "\n",
        "Write your small bio using variables and print it using print function"
      ],
      "metadata": {
        "id": "TU-xwiLV2NgB"
      }
    },
    {
      "cell_type": "code",
      "source": [
        "# Write your code here\n",
        "print(\"Hello! I'm Azaan, a Computer Science student at FAST University in Karachi. I'm a passionate programmer, especially interested in ML/DL/AI.\")"
      ],
      "metadata": {
        "id": "Dw8w3rwl2wDB",
        "outputId": "bb8e4c71-016b-492f-bff3-c165d8a4c186",
        "colab": {
          "base_uri": "https://localhost:8080/"
        }
      },
      "execution_count": 2,
      "outputs": [
        {
          "output_type": "stream",
          "name": "stdout",
          "text": [
            "Hello! I'm Azaan, a Computer Science student at FAST University in Karachi. I'm a passionate programmer, especially interested in ML/DL/AI.\n"
          ]
        }
      ]
    },
    {
      "cell_type": "markdown",
      "source": [
        "# Task 03:\n",
        "\n",
        "Write a program in which use all the operators we can use in Python"
      ],
      "metadata": {
        "id": "F2lcZuDe2ztv"
      }
    },
    {
      "cell_type": "code",
      "source": [
        "# Write your code here\n",
        "a = 3\n",
        "b = 4\n",
        "print(f\"Add: {a+b}\\nSub: {a-b}\\nMultiply: {a*b}\\nDivide: {a/b}\\nMod: {a%b}\\na to the power of b: {a**b}\")"
      ],
      "metadata": {
        "id": "lEJhzsXh3e7K",
        "outputId": "7d814122-506d-40c1-a039-35db3e0d6fac",
        "colab": {
          "base_uri": "https://localhost:8080/"
        }
      },
      "execution_count": 4,
      "outputs": [
        {
          "output_type": "stream",
          "name": "stdout",
          "text": [
            "Add: 7\n",
            "Sub: -1\n",
            "Multiply: 12\n",
            "Divide: 0.75\n",
            "Mod: 3\n",
            "a to the power of b: 81\n"
          ]
        }
      ]
    },
    {
      "cell_type": "markdown",
      "source": [
        "# Task 04:\n",
        "\n",
        "\n",
        "1. Mention Marks of English , Islamiat and Maths out of 100 in 3 different variables\n",
        "\n",
        "2. Mention Variable of Total Marks and assign 300 to it\n",
        "\n",
        "3. Calculate Percentage"
      ],
      "metadata": {
        "id": "i4N14TJU3l7n"
      }
    },
    {
      "cell_type": "code",
      "source": [
        "# Write your code here\n",
        "math = 98\n",
        "english = 99\n",
        "islamiat = 98\n",
        "total_marks = 300\n",
        "print(f\"Percentage: {((math+english+islamiat)/total_marks)*100:.2f}%\")"
      ],
      "metadata": {
        "id": "nxojzvRg5PP4",
        "outputId": "3711e75a-2015-46aa-98e2-bcf1469c1f41",
        "colab": {
          "base_uri": "https://localhost:8080/"
        }
      },
      "execution_count": 6,
      "outputs": [
        {
          "output_type": "stream",
          "name": "stdout",
          "text": [
            "Percentage: 98.33%\n"
          ]
        }
      ]
    }
  ]
}