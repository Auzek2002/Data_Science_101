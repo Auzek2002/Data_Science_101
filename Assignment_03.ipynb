{
  "cells": [
    {
      "cell_type": "markdown",
      "metadata": {
        "id": "view-in-github",
        "colab_type": "text"
      },
      "source": [
        "<a href=\"https://colab.research.google.com/github/Auzek2002/Data_Science_101/blob/main/Assignment_03.ipynb\" target=\"_parent\"><img src=\"https://colab.research.google.com/assets/colab-badge.svg\" alt=\"Open In Colab\"/></a>"
      ]
    },
    {
      "cell_type": "markdown",
      "metadata": {
        "id": "yUGwWUVjLbKo"
      },
      "source": [
        "1) A company decided to give bonus of 5% to employee if his/her year of service is more than 5 years.\n",
        "Ask user for their salary and year of service and print the net bonus amount."
      ]
    },
    {
      "cell_type": "code",
      "execution_count": 3,
      "metadata": {
        "id": "VKDgx29ALbKy",
        "outputId": "20c0dede-8674-4283-8857-8dc927e9e390",
        "colab": {
          "base_uri": "https://localhost:8080/"
        }
      },
      "outputs": [
        {
          "output_type": "stream",
          "name": "stdout",
          "text": [
            "Enter salary: 20000\n",
            "Enter years of service: 3\n",
            "Salary: 20000\n"
          ]
        }
      ],
      "source": [
        "#Type your code here\n",
        "sal = int(input(\"Enter salary: \"))\n",
        "year = int(input(\"Enter years of service: \"))\n",
        "if year > 5:\n",
        "  b = sal*(5/100)\n",
        "  sal += b\n",
        "  print(f\"Salary with bonus: {sal}\")\n",
        "else:\n",
        "  print(f\"Salary: {sal}\")"
      ]
    },
    {
      "cell_type": "markdown",
      "metadata": {
        "id": "3Yy_9y_XLbK1"
      },
      "source": [
        "\n",
        "2) Write a program to check whether a person is eligible for voting or not. (accept age from user) if age is greater than 17 eligible otherwise not eligible"
      ]
    },
    {
      "cell_type": "code",
      "execution_count": 5,
      "metadata": {
        "id": "PLvQzIz2LbK3",
        "outputId": "c7379cf7-0ed5-46de-a59e-279e2d3ad6c2",
        "colab": {
          "base_uri": "https://localhost:8080/"
        }
      },
      "outputs": [
        {
          "output_type": "stream",
          "name": "stdout",
          "text": [
            "Age: 18\n",
            "Eligible\n"
          ]
        }
      ],
      "source": [
        "#Type your code here\n",
        "age = int(input(\"Age: \"))\n",
        "if age > 17:\n",
        "  print(\"Eligible\")\n",
        "else:\n",
        "  print(\"Not Eligible\")"
      ]
    },
    {
      "cell_type": "markdown",
      "metadata": {
        "id": "KjaDtZyMLbK4"
      },
      "source": [
        "\n",
        "3) Write a program to check whether a number entered by user is even or odd."
      ]
    },
    {
      "cell_type": "code",
      "execution_count": 8,
      "metadata": {
        "id": "DuPAV8UmLbK4",
        "outputId": "426bf651-2c87-4adf-98d6-a6a2f681d147",
        "colab": {
          "base_uri": "https://localhost:8080/"
        }
      },
      "outputs": [
        {
          "output_type": "stream",
          "name": "stdout",
          "text": [
            "Enter a number: 4\n",
            "4 is Even!\n"
          ]
        }
      ],
      "source": [
        "#Type your code here\n",
        "num = int(input(\"Enter a number: \"))\n",
        "if num%2==0:\n",
        "  print(f\"{num} is Even!\")\n",
        "else:\n",
        "  print(f\"{num} is Odd!\")"
      ]
    },
    {
      "cell_type": "markdown",
      "metadata": {
        "id": "dD-xF_ESLbK5"
      },
      "source": [
        "4) Write a program to check whether a number is divisible by 7 or not.\n",
        "Show Answer"
      ]
    },
    {
      "cell_type": "code",
      "execution_count": 9,
      "metadata": {
        "id": "09LLv4PeLbK6",
        "outputId": "ddb48542-a609-4990-8fac-a4e90510d707",
        "colab": {
          "base_uri": "https://localhost:8080/"
        }
      },
      "outputs": [
        {
          "output_type": "stream",
          "name": "stdout",
          "text": [
            "Enter a number: 14\n",
            "14 is Divisible!\n"
          ]
        }
      ],
      "source": [
        "#Type your code here\n",
        "num = int(input(\"Enter a number: \"))\n",
        "if num%7==0:\n",
        "  print(f\"{num} is Divisible!\")\n",
        "else:\n",
        "  print(f\"{num} is not Divisible!\")"
      ]
    },
    {
      "cell_type": "markdown",
      "metadata": {
        "id": "gV64Gg6kLbK8"
      },
      "source": [
        "5) Write a program to display\n",
        "\"Hello\" if a number entered by user is a multiple of five , otherwise print \"Bye\"."
      ]
    },
    {
      "cell_type": "code",
      "execution_count": 10,
      "metadata": {
        "id": "0JcGnvTMLbK8",
        "outputId": "4cac45c8-3dc3-473a-da02-65757c4f51fa",
        "colab": {
          "base_uri": "https://localhost:8080/"
        }
      },
      "outputs": [
        {
          "output_type": "stream",
          "name": "stdout",
          "text": [
            "Enter a number: 10\n",
            "Hello!\n"
          ]
        }
      ],
      "source": [
        "#Type your code here\n",
        "num = int(input(\"Enter a number: \"))\n",
        "if num%5==0:\n",
        "  print(\"Hello!\")\n"
      ]
    },
    {
      "cell_type": "markdown",
      "metadata": {
        "id": "HgoI3_iBLbK9"
      },
      "source": [
        "7) Write a program to display the last digit of a number.\n"
      ]
    },
    {
      "cell_type": "code",
      "execution_count": 12,
      "metadata": {
        "id": "tHJ3Uh5ILbK9",
        "outputId": "3cc0e9ff-47cc-44b9-d4ba-95c55b926704",
        "colab": {
          "base_uri": "https://localhost:8080/"
        }
      },
      "outputs": [
        {
          "output_type": "stream",
          "name": "stdout",
          "text": [
            "Enter a number: 24\n",
            "4\n"
          ]
        }
      ],
      "source": [
        "#Type your code here\n",
        "num = int(input(\"Enter a number: \"))\n",
        "if num<10:\n",
        "  print(num)\n",
        "else:\n",
        "  print(num%10)"
      ]
    },
    {
      "cell_type": "markdown",
      "metadata": {
        "id": "YN3LvOfNLbK-"
      },
      "source": [
        "9) Take values of length and breadth of a rectangle from user and print if it is square or rectangle."
      ]
    },
    {
      "cell_type": "code",
      "execution_count": 13,
      "metadata": {
        "id": "24-IFdGcLbK-",
        "outputId": "043150ca-4cc8-48ce-dced-7031899348b5",
        "colab": {
          "base_uri": "https://localhost:8080/"
        }
      },
      "outputs": [
        {
          "output_type": "stream",
          "name": "stdout",
          "text": [
            "Enter the length: 12\n",
            "Enter the breadth: 2\n",
            "Rectangle\n"
          ]
        }
      ],
      "source": [
        "#Type your code here\n",
        "l = float(input(\"Enter the length: \"))\n",
        "b = float(input(\"Enter the breadth: \"))\n",
        "if l == b:\n",
        "  print(\"Sqaure\")\n",
        "else:\n",
        "  print(\"Rectangle\")"
      ]
    },
    {
      "cell_type": "markdown",
      "metadata": {
        "id": "5FxANiliLbK_"
      },
      "source": [
        "10) Take two int values from user and print greatest among them."
      ]
    },
    {
      "cell_type": "code",
      "execution_count": 14,
      "metadata": {
        "id": "whK0gLStLbLA",
        "outputId": "74eeae25-6129-4ecc-86cb-ee686cc64837",
        "colab": {
          "base_uri": "https://localhost:8080/"
        }
      },
      "outputs": [
        {
          "output_type": "stream",
          "name": "stdout",
          "text": [
            "Enter the 1st value: 2\n",
            "Enter the 2nd value: 3\n",
            "3 is the greatest!\n"
          ]
        }
      ],
      "source": [
        "# Type your code here\n",
        "a = int(input(\"Enter the 1st value: \"))\n",
        "b = int(input(\"Enter the 2nd value: \"))\n",
        "if a>b:\n",
        "  print(f\"{a} is the greatest!\")\n",
        "else:\n",
        "  print(f\"{b} is the greatest!\")"
      ]
    },
    {
      "cell_type": "markdown",
      "metadata": {
        "id": "mghS3KOiLbLA"
      },
      "source": [
        "11) A shop will give discount of 10% if the cost of purchased quantity is more than 1000.\n",
        "Ask user for quantity\n",
        "Suppose, one unit will cost 100.\n",
        "Judge and print total cost for user."
      ]
    },
    {
      "cell_type": "code",
      "execution_count": 15,
      "metadata": {
        "id": "MW0UdlrvLbLA",
        "outputId": "53467826-3781-4cd6-8cf9-6e3d737d8d61",
        "colab": {
          "base_uri": "https://localhost:8080/"
        }
      },
      "outputs": [
        {
          "output_type": "stream",
          "name": "stdout",
          "text": [
            "Enter the amount of things purchased: 150\n",
            "Price after discount is: 1500.0\n"
          ]
        }
      ],
      "source": [
        "#Type your code here\n",
        "q = int(input(\"Enter the amount of things purchased: \"))\n",
        "p = q* 100\n",
        "if p>1000:\n",
        "  p*=(10/100)\n",
        "  print(f\"Price after discount is: {p}\")\n",
        "else:\n",
        "  print(f\"Price is: {p}\")\n"
      ]
    },
    {
      "cell_type": "markdown",
      "metadata": {
        "id": "Xyyn-fFFLbLB"
      },
      "source": [
        "12) A school has following rules for grading system:\n",
        "\n",
        "a. Below 25 - F\n",
        "\n",
        "b. 25 to 45 - E\n",
        "\n",
        "c. 45 to 50 - D\n",
        "\n",
        "d. 50 to 60 - C\n",
        "\n",
        "e. 60 to 80 - B\n",
        "\n",
        "f. Above 80 - A\n",
        "\n",
        "Ask user to enter marks and print the corresponding grade."
      ]
    },
    {
      "cell_type": "code",
      "execution_count": 16,
      "metadata": {
        "id": "DDi5PEqxLbLB",
        "outputId": "2fa9fd04-d634-48d9-d1c2-819d03367142",
        "colab": {
          "base_uri": "https://localhost:8080/"
        }
      },
      "outputs": [
        {
          "output_type": "stream",
          "name": "stdout",
          "text": [
            "Enter your marks: 100\n",
            "A\n"
          ]
        }
      ],
      "source": [
        "#Type your code here\n",
        "marks = int(input(\"Enter your marks: \"))\n",
        "if marks < 25:\n",
        "  print('F')\n",
        "if marks > 25 and marks < 45:\n",
        "  print('E')\n",
        "if marks > 45 and marks < 50:\n",
        "  print('D')\n",
        "if marks > 50 and marks < 60:\n",
        "  print('C')\n",
        "if marks > 60 and marks < 80:\n",
        "  print('B')\n",
        "if marks > 80:\n",
        "  print('A')"
      ]
    },
    {
      "cell_type": "markdown",
      "metadata": {
        "id": "-PIo3NHyLbLC"
      },
      "source": [
        "14)A student will not be allowed to sit in exam if his/her attendence is less than 75%.\n",
        "\n",
        "Take following input from user\n",
        "\n",
        "Number of classes held\n",
        "\n",
        "Number of classes attended.\n",
        "\n",
        "And print\n",
        "\n",
        "percentage of class attended\n",
        "\n",
        "Is student is allowed to sit in exam or not.\n"
      ]
    },
    {
      "cell_type": "code",
      "execution_count": 20,
      "metadata": {
        "id": "245bOwCsLbLC",
        "outputId": "5309fe18-2060-4506-d222-f018fef83944",
        "colab": {
          "base_uri": "https://localhost:8080/"
        }
      },
      "outputs": [
        {
          "output_type": "stream",
          "name": "stdout",
          "text": [
            "Enter number of classes held: 100\n",
            "Enter the number of classes attended: 76\n",
            "Percentage of class attended: 76.0\n",
            "Student is allowed to sit in the exam\n"
          ]
        }
      ],
      "source": [
        "#Type your code here\n",
        "c = int(input(\"Enter number of classes held: \"))\n",
        "a = int(input(\"Enter the number of classes attended: \"))\n",
        "p = (a/c)*100\n",
        "print(f\"Percentage of class attended: {p:0.1f}\")\n",
        "if p > 75:\n",
        "  print(\"Student is allowed to sit in the exam\")\n",
        "else:\n",
        "  print(\"Student is not allowed to sit in the exam\")"
      ]
    },
    {
      "cell_type": "markdown",
      "metadata": {
        "id": "-bsWt8RLLbLC"
      },
      "source": [
        "15) Modify the above question to allow student to sit if he/she has medical cause. Ask user if he/she has medical cause or not ( 'Y' or 'N' ) and print accordingly."
      ]
    },
    {
      "cell_type": "code",
      "execution_count": 22,
      "metadata": {
        "id": "1oVJd8w2LbLC",
        "outputId": "7e173afd-c3e7-4297-fbf8-756f9def6e23",
        "colab": {
          "base_uri": "https://localhost:8080/"
        }
      },
      "outputs": [
        {
          "output_type": "stream",
          "name": "stdout",
          "text": [
            "Enter number of classes held: 100\n",
            "Enter the number of classes attended: 71\n",
            "Percentage of class attended: 71.0\n",
            "Did you have a medical cause? Y if yes N if no: N\n",
            "Student is not allowed to sit in the exam\n"
          ]
        }
      ],
      "source": [
        "#Type your code here\n",
        "c = int(input(\"Enter number of classes held: \"))\n",
        "a = int(input(\"Enter the number of classes attended: \"))\n",
        "p = (a/c)*100\n",
        "print(f\"Percentage of class attended: {p:0.1f}\")\n",
        "if p > 75:\n",
        "  print(\"Student is allowed to sit in the exam\")\n",
        "else:\n",
        "  m = input(\"Did you have a medical cause? Y if yes N if no: \")\n",
        "  if m == 'Y':\n",
        "    print(\"Student is allowed to sit in the exam\")\n",
        "  else:\n",
        "    print(\"Student is not allowed to sit in the exam\")"
      ]
    },
    {
      "cell_type": "markdown",
      "metadata": {
        "id": "vZHb4ZrULbLD"
      },
      "source": [
        "16) Write a program to check if a year is leap year or not.\n",
        "\n",
        "If a year is divisible by 4 then it is leap year but if the year is century year like 2000, 1900, 2100 then it must be divisible by 400."
      ]
    },
    {
      "cell_type": "code",
      "execution_count": 23,
      "metadata": {
        "id": "neFZOnYYLbLD",
        "outputId": "6cc07d1d-7f8b-42dc-b7be-928c72d4e552",
        "colab": {
          "base_uri": "https://localhost:8080/"
        }
      },
      "outputs": [
        {
          "output_type": "stream",
          "name": "stdout",
          "text": [
            "Enter a year: 2014\n",
            "2014 is not a leap year.\n"
          ]
        }
      ],
      "source": [
        "#Type your code here\n",
        "year = int(input(\"Enter a year: \"))\n",
        "\n",
        "if (year % 4 == 0 and year % 100 != 0) or (year % 400 == 0):\n",
        "    print(f\"{year} is a leap year.\")\n",
        "else:\n",
        "    print(f\"{year} is not a leap year.\")\n"
      ]
    },
    {
      "cell_type": "markdown",
      "metadata": {
        "id": "XJQ0IfsSLbLD"
      },
      "source": [
        "17) Ask user to enter age, gender ( M or F ), marital status ( Y or N ) and then using following rules print their place of service.\n",
        "\n",
        "if employee is female, then she will work only in urban areas.\n",
        "\n",
        "if employee is a male and age is in between 20 to 40 then he may work in anywhere\n",
        "\n",
        "if employee is male and age is in between 40 t0 60 then he will work in urban areas only.\n",
        "\n",
        "And any other input of age should print \"ERROR\""
      ]
    },
    {
      "cell_type": "code",
      "execution_count": 24,
      "metadata": {
        "id": "880YPYXMLbLD",
        "outputId": "26ad0916-b641-4e37-8002-bd45c3f0cb94",
        "colab": {
          "base_uri": "https://localhost:8080/"
        }
      },
      "outputs": [
        {
          "output_type": "stream",
          "name": "stdout",
          "text": [
            "Enter age: 33\n",
            "Enter gender (M or F): M\n",
            "Enter marital status (Y or N): Y\n",
            "Anywhere\n"
          ]
        }
      ],
      "source": [
        "#Type your code here\n",
        "age = int(input(\"Enter age: \"))\n",
        "gender = input(\"Enter gender (M or F): \")\n",
        "marital_status = input(\"Enter marital status (Y or N): \")\n",
        "\n",
        "if age < 20 or age > 60:\n",
        "    print(\"ERROR\")\n",
        "elif gender == 'F':\n",
        "    print(\"Urban areas\")\n",
        "elif gender == 'M':\n",
        "    if 20 <= age <= 40:\n",
        "        print(\"Anywhere\")\n",
        "    elif 40 <= age <= 60:\n",
        "        print(\"Urban areas only\")\n"
      ]
    },
    {
      "cell_type": "markdown",
      "metadata": {
        "id": "HXiwMpKKLbLE"
      },
      "source": [
        "6) Write a program to calculate the electricity bill (accept number of unit from user) according to the following criteria :\n",
        "     Unit                                                     Price  \n",
        "uptp 100 units                                             no charge\n",
        "Next 200 units                                              Rs 5 per unit\n",
        "After 200 units                                             Rs 10 per unit\n",
        "(For example if input unit is 350 than total bill amount is Rs.3500\n",
        "(For example if input unit is 97 than total bill amount is Rs.0\n",
        "(For example if input unit is 150 than total bill amount is Rs.750"
      ]
    },
    {
      "cell_type": "code",
      "source": [
        "#Type your code here\n",
        "units = int(input(\"Enter the number of units: \"))\n",
        "total_bill = 0\n",
        "\n",
        "if units <= 100:\n",
        "    total_bill = 0\n",
        "elif units <= 300:\n",
        "    total_bill = (units - 100) * 5\n",
        "elif units > 300:\n",
        "    total_bill = 200 * 5 + (units - 300) * 10\n",
        "\n",
        "print(f\"Total bill amount is Rs. {total_bill}\")\n"
      ],
      "metadata": {
        "id": "yj51FhoWXgx4",
        "outputId": "f49d92bf-1d34-454d-b585-5860a523be56",
        "colab": {
          "base_uri": "https://localhost:8080/"
        }
      },
      "execution_count": 28,
      "outputs": [
        {
          "output_type": "stream",
          "name": "stdout",
          "text": [
            "Enter the number of units: 97\n",
            "Total bill amount is Rs. 0\n"
          ]
        }
      ]
    },
    {
      "cell_type": "markdown",
      "metadata": {
        "id": "H-YvFpyfLbLE"
      },
      "source": [
        "13) Take input of age of 3 people by user and determine oldest and youngest among them."
      ]
    },
    {
      "cell_type": "code",
      "execution_count": 29,
      "metadata": {
        "id": "wHHAHUVCLbLF",
        "outputId": "7b1645e5-9063-4a1e-8f0e-20c05fbef8a4",
        "colab": {
          "base_uri": "https://localhost:8080/"
        }
      },
      "outputs": [
        {
          "output_type": "stream",
          "name": "stdout",
          "text": [
            "Enter the age of person 1: 12\n",
            "Enter the age of person 2: 30\n",
            "Enter the age of person 3: 20\n",
            "Person 2 is the oldest\n",
            "Person 1 is the youngest\n"
          ]
        }
      ],
      "source": [
        "#Type your code here\n",
        "a1 = int(input(\"Enter the age of person 1: \"))\n",
        "a2 = int(input(\"Enter the age of person 2: \"))\n",
        "a3 = int(input(\"Enter the age of person 3: \"))\n",
        "\n",
        "if a1> a2 and a1>a3:\n",
        "  print(\"Person 1 is the oldest\")\n",
        "if a2> a1 and a2>a3:\n",
        "  print(\"Person 2 is the oldest\")\n",
        "if a3> a2 and a3>a1:\n",
        "  print(\"Person 3 is the oldest\")\n",
        "\n",
        "if a1< a2 and a1<a3:\n",
        "  print(\"Person 1 is the youngest\")\n",
        "if a2< a1 and a2<a3:\n",
        "  print(\"Person 2 is the youngest\")\n",
        "if a3< a2 and a3<a1:\n",
        "  print(\"Person 3 is the youngest\")"
      ]
    }
  ],
  "metadata": {
    "kernelspec": {
      "display_name": "Python 3 (ipykernel)",
      "language": "python",
      "name": "python3"
    },
    "language_info": {
      "codemirror_mode": {
        "name": "ipython",
        "version": 3
      },
      "file_extension": ".py",
      "mimetype": "text/x-python",
      "name": "python",
      "nbconvert_exporter": "python",
      "pygments_lexer": "ipython3",
      "version": "3.11.5"
    },
    "colab": {
      "provenance": [],
      "include_colab_link": true
    }
  },
  "nbformat": 4,
  "nbformat_minor": 0
}